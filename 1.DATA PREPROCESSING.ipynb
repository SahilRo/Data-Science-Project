{
 "cells": [
  {
   "cell_type": "code",
   "execution_count": 1,
   "id": "b808c787",
   "metadata": {},
   "outputs": [],
   "source": [
    "import requests\n",
    "from bs4 import BeautifulSoup\n",
    "import pickle\n",
    "\n",
    "# Scrapes transcript data from scrapsfromtheloft.com\n",
    "def url_to_transcript(url):\n",
    "    '''Returns transcript data specifically from scrapsfromtheloft.com.'''\n",
    "    page = requests.get(url).text\n",
    "    soup = BeautifulSoup(page, \"lxml\")\n",
    "    text = [p.text for p in soup.find(class_=\"elementor-widget-theme-post-content\").find_all('p')]\n",
    "    print(url)\n",
    "    return text\n",
    "\n",
    "# URLs of transcripts in scope\n",
    "urls = ['https://scrapsfromtheloft.com/comedy/oliver-stone-vladimir-putin-interview-on-ukraine/',\n",
    "        'https://scrapsfromtheloft.com/movies/face-to-face-with-ingmar-bergman/',\n",
    "        'https://scrapsfromtheloft.com/movies/norman-lloyd-interview-alfred-hitchcock-and-saboteur/',\n",
    "        'https://scrapsfromtheloft.com/movies/david-lynch-interview-dune-starlog-magazine/',\n",
    "        'https://scrapsfromtheloft.com/movies/an-interview-with-ennio-morricone-1994/',\n",
    "        'https://scrapsfromtheloft.com/movies/i-still-love-going-to-movies-an-interview-with-pauline-kael-1999/']\n",
    "\n",
    "# Comedian names\n",
    "interviewer = ['A', 'B', 'C', 'D', 'E', 'F']"
   ]
  },
  {
   "cell_type": "code",
   "execution_count": 2,
   "id": "c9bb8a99",
   "metadata": {},
   "outputs": [
    {
     "name": "stdout",
     "output_type": "stream",
     "text": [
      "https://scrapsfromtheloft.com/comedy/oliver-stone-vladimir-putin-interview-on-ukraine/\n",
      "https://scrapsfromtheloft.com/movies/face-to-face-with-ingmar-bergman/\n",
      "https://scrapsfromtheloft.com/movies/norman-lloyd-interview-alfred-hitchcock-and-saboteur/\n",
      "https://scrapsfromtheloft.com/movies/david-lynch-interview-dune-starlog-magazine/\n",
      "https://scrapsfromtheloft.com/movies/an-interview-with-ennio-morricone-1994/\n",
      "https://scrapsfromtheloft.com/movies/i-still-love-going-to-movies-an-interview-with-pauline-kael-1999/\n"
     ]
    }
   ],
   "source": [
    "transcripts = [url_to_transcript(u) for u in urls]"
   ]
  },
  {
   "cell_type": "code",
   "execution_count": 3,
   "id": "34f9b82d",
   "metadata": {},
   "outputs": [
    {
     "name": "stderr",
     "output_type": "stream",
     "text": [
      "A subdirectory or file transcripts already exists.\n"
     ]
    }
   ],
   "source": [
    "!mkdir transcripts\n",
    "\n",
    "for i, c in enumerate(interviewer):\n",
    "   with open(\"transcripts/\" + c + \".txt\", \"wb\") as file:\n",
    "       pickle.dump(transcripts[i], file)"
   ]
  },
  {
   "cell_type": "code",
   "execution_count": 4,
   "id": "ff7610c8",
   "metadata": {},
   "outputs": [],
   "source": [
    "data = {}\n",
    "for i, c in enumerate(interviewer):\n",
    "    with open(\"transcripts/\" + c + \".txt\", \"rb\") as file:\n",
    "        data[c] = pickle.load(file)"
   ]
  },
  {
   "cell_type": "code",
   "execution_count": 5,
   "id": "08504873",
   "metadata": {},
   "outputs": [
    {
     "data": {
      "text/plain": [
       "['Oliver Stone conducted interviews with Vladimir Putin on four separate trips to Russia for a total of nine days between July 2, 2015 and February 10, 2017.',\n",
       " 'The following is a selection of parts of the interviews where Putin talks about Ukraine.']"
      ]
     },
     "execution_count": 5,
     "metadata": {},
     "output_type": "execute_result"
    }
   ],
   "source": [
    "data['A'][:2]"
   ]
  },
  {
   "cell_type": "code",
   "execution_count": 6,
   "id": "7e434be4",
   "metadata": {},
   "outputs": [],
   "source": [
    "def combine_text(list_of_text):\n",
    "    '''Takes a list of text and combines them into one large chunk of text.'''\n",
    "    combined_text = ' '.join(list_of_text)\n",
    "    return combined_text"
   ]
  },
  {
   "cell_type": "code",
   "execution_count": 7,
   "id": "15de5ad6",
   "metadata": {},
   "outputs": [],
   "source": [
    "data_combined = {key: [combine_text(value)] for (key, value) in data.items()}"
   ]
  },
  {
   "cell_type": "code",
   "execution_count": 8,
   "id": "67e4e6bc",
   "metadata": {},
   "outputs": [
    {
     "data": {
      "text/html": [
       "<div>\n",
       "<style scoped>\n",
       "    .dataframe tbody tr th:only-of-type {\n",
       "        vertical-align: middle;\n",
       "    }\n",
       "\n",
       "    .dataframe tbody tr th {\n",
       "        vertical-align: top;\n",
       "    }\n",
       "\n",
       "    .dataframe thead th {\n",
       "        text-align: right;\n",
       "    }\n",
       "</style>\n",
       "<table border=\"1\" class=\"dataframe\">\n",
       "  <thead>\n",
       "    <tr style=\"text-align: right;\">\n",
       "      <th></th>\n",
       "      <th>transcript</th>\n",
       "    </tr>\n",
       "  </thead>\n",
       "  <tbody>\n",
       "    <tr>\n",
       "      <th>A</th>\n",
       "      <td>Oliver Stone conducted interviews with Vladimir Putin on four separate trips to Russia for a total of nine days between July 2, 2015 and February ...</td>\n",
       "    </tr>\n",
       "    <tr>\n",
       "      <th>B</th>\n",
       "      <td>by William Wolf Ingmar Bergman stands outside his ranch house on Fårö, his Swedish island sanctuary, one arm affectionately around his wife, the o...</td>\n",
       "    </tr>\n",
       "    <tr>\n",
       "      <th>C</th>\n",
       "      <td>Alfred Hitchcock and Saboteur It was 1941, and Alfred Hitchcock had a picture about to be released called Suspicion, with Cary Grant and Joan Font...</td>\n",
       "    </tr>\n",
       "    <tr>\n",
       "      <th>D</th>\n",
       "      <td>STARLOG INTERVIEW Director of “Dune” The filmmaker who tamed “The Elephant Man” undertakes the grandest vision of them all—the realization on the ...</td>\n",
       "    </tr>\n",
       "    <tr>\n",
       "      <th>E</th>\n",
       "      <td>by Jon Burlingame and Gary Crowdus Ennio Morricone occupies a unique place in the history of twentieth-century music. He is without question one o...</td>\n",
       "    </tr>\n",
       "    <tr>\n",
       "      <th>F</th>\n",
       "      <td>by Leonard Quart Pauline Kael shook up the critical scene with her controversial 1963 Film Quarterly article, “Circles and Squares,” which attacke...</td>\n",
       "    </tr>\n",
       "  </tbody>\n",
       "</table>\n",
       "</div>"
      ],
      "text/plain": [
       "                                                                                                                                              transcript\n",
       "A  Oliver Stone conducted interviews with Vladimir Putin on four separate trips to Russia for a total of nine days between July 2, 2015 and February ...\n",
       "B  by William Wolf Ingmar Bergman stands outside his ranch house on Fårö, his Swedish island sanctuary, one arm affectionately around his wife, the o...\n",
       "C  Alfred Hitchcock and Saboteur It was 1941, and Alfred Hitchcock had a picture about to be released called Suspicion, with Cary Grant and Joan Font...\n",
       "D  STARLOG INTERVIEW Director of “Dune” The filmmaker who tamed “The Elephant Man” undertakes the grandest vision of them all—the realization on the ...\n",
       "E  by Jon Burlingame and Gary Crowdus Ennio Morricone occupies a unique place in the history of twentieth-century music. He is without question one o...\n",
       "F  by Leonard Quart Pauline Kael shook up the critical scene with her controversial 1963 Film Quarterly article, “Circles and Squares,” which attacke..."
      ]
     },
     "execution_count": 8,
     "metadata": {},
     "output_type": "execute_result"
    }
   ],
   "source": [
    "import pandas as pd\n",
    "pd.set_option('max_colwidth',150)\n",
    "\n",
    "data_df = pd.DataFrame.from_dict(data_combined).transpose()\n",
    "data_df.columns = ['transcript']\n",
    "data_df = data_df.sort_index()\n",
    "data_df"
   ]
  },
  {
   "cell_type": "code",
   "execution_count": 9,
   "id": "44c8a573",
   "metadata": {},
   "outputs": [],
   "source": [
    "import re\n",
    "import string\n",
    "\n",
    "def clean_text_round1(text):\n",
    "    '''Make text lowercase, remove text in square brackets, remove punctuation and remove words containing numbers.'''\n",
    "    text = text.lower()\n",
    "    text = re.sub('\\[.*?\\]', '', text)\n",
    "    text = re.sub('[%s]' % re.escape(string.punctuation), '', text)\n",
    "    text = re.sub('\\w*\\d\\w*', '', text)\n",
    "    return text\n",
    "\n",
    "round1 = lambda x: clean_text_round1(x)"
   ]
  },
  {
   "cell_type": "code",
   "execution_count": 10,
   "id": "79cf9d86",
   "metadata": {},
   "outputs": [
    {
     "data": {
      "text/html": [
       "<div>\n",
       "<style scoped>\n",
       "    .dataframe tbody tr th:only-of-type {\n",
       "        vertical-align: middle;\n",
       "    }\n",
       "\n",
       "    .dataframe tbody tr th {\n",
       "        vertical-align: top;\n",
       "    }\n",
       "\n",
       "    .dataframe thead th {\n",
       "        text-align: right;\n",
       "    }\n",
       "</style>\n",
       "<table border=\"1\" class=\"dataframe\">\n",
       "  <thead>\n",
       "    <tr style=\"text-align: right;\">\n",
       "      <th></th>\n",
       "      <th>transcript</th>\n",
       "    </tr>\n",
       "  </thead>\n",
       "  <tbody>\n",
       "    <tr>\n",
       "      <th>A</th>\n",
       "      <td>oliver stone conducted interviews with vladimir putin on four separate trips to russia for a total of nine days between july   and february   the ...</td>\n",
       "    </tr>\n",
       "    <tr>\n",
       "      <th>B</th>\n",
       "      <td>by william wolf ingmar bergman stands outside his ranch house on fårö his swedish island sanctuary one arm affectionately around his wife the othe...</td>\n",
       "    </tr>\n",
       "    <tr>\n",
       "      <th>C</th>\n",
       "      <td>alfred hitchcock and saboteur it was  and alfred hitchcock had a picture about to be released called suspicion with cary grant and joan fontaine h...</td>\n",
       "    </tr>\n",
       "    <tr>\n",
       "      <th>D</th>\n",
       "      <td>starlog interview director of “dune” the filmmaker who tamed “the elephant man” undertakes the grandest vision of them all—the realization on the ...</td>\n",
       "    </tr>\n",
       "    <tr>\n",
       "      <th>E</th>\n",
       "      <td>by jon burlingame and gary crowdus ennio morricone occupies a unique place in the history of twentiethcentury music he is without question one of ...</td>\n",
       "    </tr>\n",
       "    <tr>\n",
       "      <th>F</th>\n",
       "      <td>by leonard quart pauline kael shook up the critical scene with her controversial  film quarterly article “circles and squares” which attacked aute...</td>\n",
       "    </tr>\n",
       "  </tbody>\n",
       "</table>\n",
       "</div>"
      ],
      "text/plain": [
       "                                                                                                                                              transcript\n",
       "A  oliver stone conducted interviews with vladimir putin on four separate trips to russia for a total of nine days between july   and february   the ...\n",
       "B  by william wolf ingmar bergman stands outside his ranch house on fårö his swedish island sanctuary one arm affectionately around his wife the othe...\n",
       "C  alfred hitchcock and saboteur it was  and alfred hitchcock had a picture about to be released called suspicion with cary grant and joan fontaine h...\n",
       "D  starlog interview director of “dune” the filmmaker who tamed “the elephant man” undertakes the grandest vision of them all—the realization on the ...\n",
       "E  by jon burlingame and gary crowdus ennio morricone occupies a unique place in the history of twentiethcentury music he is without question one of ...\n",
       "F  by leonard quart pauline kael shook up the critical scene with her controversial  film quarterly article “circles and squares” which attacked aute..."
      ]
     },
     "execution_count": 10,
     "metadata": {},
     "output_type": "execute_result"
    }
   ],
   "source": [
    "data_clean = pd.DataFrame(data_df.transcript.apply(round1))\n",
    "data_clean"
   ]
  },
  {
   "cell_type": "code",
   "execution_count": 11,
   "id": "2ffe105b",
   "metadata": {},
   "outputs": [],
   "source": [
    "def clean_text_round2(text):\n",
    "    '''Get rid of some additional punctuation and non-sensical text that was missed the first time around.'''\n",
    "    text = re.sub('[‘’“”…]', '', text)\n",
    "    text = re.sub('\\n', '', text)\n",
    "    text = re.sub('\\t', '', text)\n",
    "    text = re.sub('     ', '', text)\n",
    "    return text\n",
    "\n",
    "round2 = lambda x: clean_text_round2(x)"
   ]
  },
  {
   "cell_type": "code",
   "execution_count": 12,
   "id": "f3216dd6",
   "metadata": {},
   "outputs": [
    {
     "data": {
      "text/html": [
       "<div>\n",
       "<style scoped>\n",
       "    .dataframe tbody tr th:only-of-type {\n",
       "        vertical-align: middle;\n",
       "    }\n",
       "\n",
       "    .dataframe tbody tr th {\n",
       "        vertical-align: top;\n",
       "    }\n",
       "\n",
       "    .dataframe thead th {\n",
       "        text-align: right;\n",
       "    }\n",
       "</style>\n",
       "<table border=\"1\" class=\"dataframe\">\n",
       "  <thead>\n",
       "    <tr style=\"text-align: right;\">\n",
       "      <th></th>\n",
       "      <th>transcript</th>\n",
       "    </tr>\n",
       "  </thead>\n",
       "  <tbody>\n",
       "    <tr>\n",
       "      <th>A</th>\n",
       "      <td>oliver stone conducted interviews with vladimir putin on four separate trips to russia for a total of nine days between july   and february   the ...</td>\n",
       "    </tr>\n",
       "    <tr>\n",
       "      <th>B</th>\n",
       "      <td>by william wolf ingmar bergman stands outside his ranch house on fårö his swedish island sanctuary one arm affectionately around his wife the othe...</td>\n",
       "    </tr>\n",
       "    <tr>\n",
       "      <th>C</th>\n",
       "      <td>alfred hitchcock and saboteur it was  and alfred hitchcock had a picture about to be released called suspicion with cary grant and joan fontaine h...</td>\n",
       "    </tr>\n",
       "    <tr>\n",
       "      <th>D</th>\n",
       "      <td>starlog interview director of dune the filmmaker who tamed the elephant man undertakes the grandest vision of them all—the realization on the scre...</td>\n",
       "    </tr>\n",
       "    <tr>\n",
       "      <th>E</th>\n",
       "      <td>by jon burlingame and gary crowdus ennio morricone occupies a unique place in the history of twentiethcentury music he is without question one of ...</td>\n",
       "    </tr>\n",
       "    <tr>\n",
       "      <th>F</th>\n",
       "      <td>by leonard quart pauline kael shook up the critical scene with her controversial  film quarterly article circles and squares which attacked auteur...</td>\n",
       "    </tr>\n",
       "  </tbody>\n",
       "</table>\n",
       "</div>"
      ],
      "text/plain": [
       "                                                                                                                                              transcript\n",
       "A  oliver stone conducted interviews with vladimir putin on four separate trips to russia for a total of nine days between july   and february   the ...\n",
       "B  by william wolf ingmar bergman stands outside his ranch house on fårö his swedish island sanctuary one arm affectionately around his wife the othe...\n",
       "C  alfred hitchcock and saboteur it was  and alfred hitchcock had a picture about to be released called suspicion with cary grant and joan fontaine h...\n",
       "D  starlog interview director of dune the filmmaker who tamed the elephant man undertakes the grandest vision of them all—the realization on the scre...\n",
       "E  by jon burlingame and gary crowdus ennio morricone occupies a unique place in the history of twentiethcentury music he is without question one of ...\n",
       "F  by leonard quart pauline kael shook up the critical scene with her controversial  film quarterly article circles and squares which attacked auteur..."
      ]
     },
     "execution_count": 12,
     "metadata": {},
     "output_type": "execute_result"
    }
   ],
   "source": [
    "data_clean = pd.DataFrame(data_clean.transcript.apply(round2))\n",
    "data_clean"
   ]
  },
  {
   "cell_type": "code",
   "execution_count": 13,
   "id": "6213f0f7",
   "metadata": {},
   "outputs": [
    {
     "data": {
      "text/html": [
       "<div>\n",
       "<style scoped>\n",
       "    .dataframe tbody tr th:only-of-type {\n",
       "        vertical-align: middle;\n",
       "    }\n",
       "\n",
       "    .dataframe tbody tr th {\n",
       "        vertical-align: top;\n",
       "    }\n",
       "\n",
       "    .dataframe thead th {\n",
       "        text-align: right;\n",
       "    }\n",
       "</style>\n",
       "<table border=\"1\" class=\"dataframe\">\n",
       "  <thead>\n",
       "    <tr style=\"text-align: right;\">\n",
       "      <th></th>\n",
       "      <th>transcript</th>\n",
       "      <th>full_name</th>\n",
       "    </tr>\n",
       "  </thead>\n",
       "  <tbody>\n",
       "    <tr>\n",
       "      <th>A</th>\n",
       "      <td>Oliver Stone conducted interviews with Vladimir Putin on four separate trips to Russia for a total of nine days between July 2, 2015 and February ...</td>\n",
       "      <td>a</td>\n",
       "    </tr>\n",
       "    <tr>\n",
       "      <th>B</th>\n",
       "      <td>by William Wolf Ingmar Bergman stands outside his ranch house on Fårö, his Swedish island sanctuary, one arm affectionately around his wife, the o...</td>\n",
       "      <td>b</td>\n",
       "    </tr>\n",
       "    <tr>\n",
       "      <th>C</th>\n",
       "      <td>Alfred Hitchcock and Saboteur It was 1941, and Alfred Hitchcock had a picture about to be released called Suspicion, with Cary Grant and Joan Font...</td>\n",
       "      <td>c</td>\n",
       "    </tr>\n",
       "    <tr>\n",
       "      <th>D</th>\n",
       "      <td>STARLOG INTERVIEW Director of “Dune” The filmmaker who tamed “The Elephant Man” undertakes the grandest vision of them all—the realization on the ...</td>\n",
       "      <td>d</td>\n",
       "    </tr>\n",
       "    <tr>\n",
       "      <th>E</th>\n",
       "      <td>by Jon Burlingame and Gary Crowdus Ennio Morricone occupies a unique place in the history of twentieth-century music. He is without question one o...</td>\n",
       "      <td>e</td>\n",
       "    </tr>\n",
       "    <tr>\n",
       "      <th>F</th>\n",
       "      <td>by Leonard Quart Pauline Kael shook up the critical scene with her controversial 1963 Film Quarterly article, “Circles and Squares,” which attacke...</td>\n",
       "      <td>f</td>\n",
       "    </tr>\n",
       "  </tbody>\n",
       "</table>\n",
       "</div>"
      ],
      "text/plain": [
       "                                                                                                                                              transcript  \\\n",
       "A  Oliver Stone conducted interviews with Vladimir Putin on four separate trips to Russia for a total of nine days between July 2, 2015 and February ...   \n",
       "B  by William Wolf Ingmar Bergman stands outside his ranch house on Fårö, his Swedish island sanctuary, one arm affectionately around his wife, the o...   \n",
       "C  Alfred Hitchcock and Saboteur It was 1941, and Alfred Hitchcock had a picture about to be released called Suspicion, with Cary Grant and Joan Font...   \n",
       "D  STARLOG INTERVIEW Director of “Dune” The filmmaker who tamed “The Elephant Man” undertakes the grandest vision of them all—the realization on the ...   \n",
       "E  by Jon Burlingame and Gary Crowdus Ennio Morricone occupies a unique place in the history of twentieth-century music. He is without question one o...   \n",
       "F  by Leonard Quart Pauline Kael shook up the critical scene with her controversial 1963 Film Quarterly article, “Circles and Squares,” which attacke...   \n",
       "\n",
       "  full_name  \n",
       "A         a  \n",
       "B         b  \n",
       "C         c  \n",
       "D         d  \n",
       "E         e  \n",
       "F         f  "
      ]
     },
     "execution_count": 13,
     "metadata": {},
     "output_type": "execute_result"
    }
   ],
   "source": [
    "full_name = ['a','b','c','d','e','f']\n",
    "\n",
    "data_df['full_name'] = full_name\n",
    "data_df"
   ]
  },
  {
   "cell_type": "code",
   "execution_count": 14,
   "id": "23d924b1",
   "metadata": {},
   "outputs": [],
   "source": [
    "data_df.to_pickle(\"corpus.pkl\")"
   ]
  },
  {
   "cell_type": "code",
   "execution_count": 18,
   "id": "4609a5bb",
   "metadata": {},
   "outputs": [
    {
     "name": "stdout",
     "output_type": "stream",
     "text": [
      "   ab  abandoned  abano  abilities  able  ables  abm  abms  abraham  abroad  \\\n",
      "A   0          1      0          0     6      0    6     2        0       2   \n",
      "B   0          0      0          0     0      0    0     0        0       2   \n",
      "C   1          0      0          0     0      0    0     0        0       0   \n",
      "D   0          0      1          0     2      0    0     0        0       0   \n",
      "E   0          0      0          1     5      1    0     0        2       0   \n",
      "F   0          0      0          0     1      0    0     0        0       0   \n",
      "\n",
      "   ...  yushchenko  zealous  zeffirellis  zenith  zero  zeroed  zled  zone  \\\n",
      "A  ...           4        0            0       0     1       1     0     1   \n",
      "B  ...           0        1            0       0     0       0     0     0   \n",
      "C  ...           0        0            0       1     4       0     1     0   \n",
      "D  ...           0        0            0       0     0       0     0     0   \n",
      "E  ...           0        0            1       0     0       0     0     0   \n",
      "F  ...           0        0            0       0     0       0     0     0   \n",
      "\n",
      "   zoom  zooms  \n",
      "A     0      0  \n",
      "B     0      0  \n",
      "C     2      1  \n",
      "D     0      0  \n",
      "E     0      0  \n",
      "F     0      0  \n",
      "\n",
      "[6 rows x 4632 columns]\n"
     ]
    }
   ],
   "source": [
    "from sklearn.feature_extraction.text import TfidfVectorizer\n",
    "\n",
    "\n",
    "# Initialize TfidfVectorizer\n",
    "cv = TfidfVectorizer(stop_words='english')\n",
    "\n",
    "# Fit and transform the data\n",
    "data_dtm = cv.fit_transform(data_clean.transcript)\n",
    "\n",
    "# Create a DataFrame with the TF-IDF values and feature names\n",
    "data_dtm = pd.DataFrame(data_cv.toarray(), columns=cv.get_feature_names_out())\n",
    "data_dtm.index = data_clean.index\n",
    "\n",
    "print(data_dtm)\n"
   ]
  },
  {
   "cell_type": "code",
   "execution_count": 19,
   "id": "75f84e27",
   "metadata": {},
   "outputs": [],
   "source": [
    "data_dtm.to_pickle(\"dtm.pkl\")"
   ]
  },
  {
   "cell_type": "code",
   "execution_count": 21,
   "id": "b900a667",
   "metadata": {},
   "outputs": [],
   "source": [
    "data_clean.to_pickle('data_clean.pkl')\n",
    "pickle.dump(cv, open(\"cv.pkl\", \"wb\"))"
   ]
  },
  {
   "cell_type": "code",
   "execution_count": null,
   "id": "f1d2dda5",
   "metadata": {},
   "outputs": [],
   "source": []
  }
 ],
 "metadata": {
  "kernelspec": {
   "display_name": "Python 3 (ipykernel)",
   "language": "python",
   "name": "python3"
  },
  "language_info": {
   "codemirror_mode": {
    "name": "ipython",
    "version": 3
   },
   "file_extension": ".py",
   "mimetype": "text/x-python",
   "name": "python",
   "nbconvert_exporter": "python",
   "pygments_lexer": "ipython3",
   "version": "3.9.13"
  }
 },
 "nbformat": 4,
 "nbformat_minor": 5
}
